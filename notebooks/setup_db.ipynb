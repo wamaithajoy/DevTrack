{
 "cells": [
  {
   "cell_type": "code",
   "execution_count": 1,
   "metadata": {},
   "outputs": [],
   "source": [
    "import mysql.connector\n",
    "import os\n",
    "from dotenv import load_dotenv"
   ]
  },
  {
   "cell_type": "code",
   "execution_count": 2,
   "metadata": {},
   "outputs": [],
   "source": [
    "# Load environment variables\n",
    "load_dotenv()\n",
    "\n",
    "# Connecting to MySQL Server\n",
    "conn = mysql.connector.connect(\n",
    "    host=os.getenv(\"MYSQL_HOST\"),\n",
    "    user=os.getenv(\"MYSQL_USER\"),\n",
    "    password=os.getenv(\"MYSQL_PASSWORD\")\n",
    ")\n",
    "\n",
    "cursor = conn.cursor()"
   ]
  },
  {
   "cell_type": "code",
   "execution_count": 3,
   "metadata": {},
   "outputs": [],
   "source": [
    "# Creating the database contact_messages if it doesn't exist\n",
    "cursor.execute(\"CREATE DATABASE IF NOT EXISTS devtrack_db\")\n",
    "\n",
    "# Switching to the database\n",
    "cursor.execute(\"USE devtrack_db\")"
   ]
  },
  {
   "cell_type": "code",
   "execution_count": 4,
   "metadata": {},
   "outputs": [],
   "source": [
    "# SQL query to create a table\n",
    "create_table_query = \"\"\"\n",
    "CREATE TABLE IF NOT EXISTS users (\n",
    "    id INT AUTO_INCREMENT PRIMARY KEY,\n",
    "    username VARCHAR(255) UNIQUE NOT NULL,\n",
    "    password VARCHAR(255) NOT NULL\n",
    ");\n",
    "\"\"\"\n",
    "\n",
    "# Execute the query\n",
    "cursor.execute(create_table_query)\n",
    "conn.commit()"
   ]
  },
  {
   "cell_type": "code",
   "execution_count": 5,
   "metadata": {},
   "outputs": [],
   "source": [
    "create_table_query = \"\"\"\n",
    "CREATE TABLE IF NOT EXISTS tracking (\n",
    "    id INT AUTO_INCREMENT PRIMARY KEY,\n",
    "    user_id INT NOT NULL,\n",
    "    project_name VARCHAR(255) NOT NULL,\n",
    "    commits INT DEFAULT 0,\n",
    "    api_requests INT DEFAULT 0,\n",
    "    errors INT DEFAULT 0,\n",
    "    response_time FLOAT DEFAULT 0,\n",
    "    last_updated TIMESTAMP DEFAULT CURRENT_TIMESTAMP ON UPDATE CURRENT_TIMESTAMP,\n",
    "    FOREIGN KEY (user_id) REFERENCES users(id) ON DELETE CASCADE\n",
    ");\n",
    "\"\"\"\n",
    "cursor.execute(create_table_query)\n",
    "conn.commit()"
   ]
  }
 ],
 "metadata": {
  "kernelspec": {
   "display_name": ".venv",
   "language": "python",
   "name": "python3"
  },
  "language_info": {
   "codemirror_mode": {
    "name": "ipython",
    "version": 3
   },
   "file_extension": ".py",
   "mimetype": "text/x-python",
   "name": "python",
   "nbconvert_exporter": "python",
   "pygments_lexer": "ipython3",
   "version": "3.9.7"
  }
 },
 "nbformat": 4,
 "nbformat_minor": 2
}
